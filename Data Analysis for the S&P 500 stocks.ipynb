{
 "cells": [
  {
   "cell_type": "code",
   "execution_count": null,
   "metadata": {},
   "outputs": [],
   "source": [
    "import pandas as pd\n",
    "import plotly.express as px"
   ]
  },
  {
   "cell_type": "code",
   "execution_count": null,
   "metadata": {},
   "outputs": [],
   "source": [
    "data = pd.read_csv (r'C:\\Users\\laiba\\Desktop\\Coding\\Stock Visulization\\archive\\all_stocks_5yr.csv')\n",
    "stock= \"\"\n",
    "\n",
    "while True:\n",
    "    \n",
    "    stock = input(\"\\nWhich stock would you like to visulaize? Please use the NASDAQ symbol \")\n",
    "    if stock.lower() == \"none\":\n",
    "        break \n",
    "    \n",
    "    elif data[\"Name\"].str.contains(stock).any():\n",
    "        date = data[data[\"Name\"] == stock][\"date\"]\n",
    "        graph = input(\"\\nwhat kind of graph would you like to see. The options are: \\n1-Opening value vs Date\\n2-Daily High price vs Date\\n3-Daily Low Price vs Date\\n4-Closing value vs Date\\n5-Volume traded vs Date\\nPlease either input the number or copy paste the exact working of the graph you want to create \\n(eg. 1 or Opening value vs Date)\\n\") \n",
    "         \n",
    "        if graph == \"1\":\n",
    "            opening_value = data[data[\"Name\"] == stock][\"open\"]\n",
    "            name = \"Opening value (USD)\"\n",
    "            y = opening_value\n",
    "        elif graph == \"2\":\n",
    "            high_value = data[data[\"Name\"] == stock][\"high\"]\n",
    "            name = \"Daily High value (USD)\"\n",
    "            y = high_value\n",
    "        elif graph == \"3\":\n",
    "            low_value = data[data[\"Name\"] == stock][\"low\"]\n",
    "            name = \"Daily Low value (USD)\"\n",
    "            y = low_value\n",
    "        elif graph == \"4\":\n",
    "            closing_value = data[data[\"Name\"] == stock][\"close\"]\n",
    "            name = \"Closing value (USD)\"\n",
    "            y = closing_value\n",
    "        elif graph == \"5\":\n",
    "            volume_traded = data[data[\"Name\"] == stock][\"volume\"]\n",
    "            name = \"Volume Traded (Stocks)\"\n",
    "            y = volume_traded\n",
    "\n",
    "    \n",
    "        fig = px.line(x=date, y=y, title= name + ' of ' + stock + ' vs Date', labels={'x':'Date', 'y':name} )\n",
    "        fig.show()\n",
    "        \n",
    "        \n",
    "    else:\n",
    "        print(\"\\n\" + stock + \" is not a S&P500 stock\")\n",
    "        "
   ]
  }
 ],
 "metadata": {
  "kernelspec": {
   "display_name": "Python 3",
   "language": "python",
   "name": "python3"
  },
  "language_info": {
   "codemirror_mode": {
    "name": "ipython",
    "version": 3
   },
   "file_extension": ".py",
   "mimetype": "text/x-python",
   "name": "python",
   "nbconvert_exporter": "python",
   "pygments_lexer": "ipython3",
   "version": "3.7.6"
  }
 },
 "nbformat": 4,
 "nbformat_minor": 4
}
